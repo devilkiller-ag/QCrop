{
 "cells": [
  {
   "cell_type": "code",
   "execution_count": 6,
   "id": "e0d4c2f4",
   "metadata": {},
   "outputs": [],
   "source": [
    "from hamiltonians import load_Molecule"
   ]
  },
  {
   "cell_type": "code",
   "execution_count": 35,
   "id": "878ad2a5",
   "metadata": {},
   "outputs": [],
   "source": [
    "import numpy as np\n",
    "import matplotlib.pyplot as plt\n",
    "import pylab\n",
    "from typing import List \n",
    "import qutip as qt\n",
    "from tqdm import tqdm\n",
    "from qiskit.algorithms import VQE\n",
    "from qiskit_nature.algorithms import GroundStateEigensolver,NumPyMinimumEigensolverFactory\n",
    "from qiskit_nature.drivers import Molecule\n",
    "from qiskit_nature.drivers.second_quantization import ElectronicStructureMoleculeDriver, ElectronicStructureDriverType\n",
    "from qiskit_nature.transformers.second_quantization.electronic import ActiveSpaceTransformer\n",
    "from qiskit_nature.problems.second_quantization import ElectronicStructureProblem\n",
    "from qiskit_nature.converters.second_quantization import QubitConverter\n",
    "from qiskit_nature.mappers.second_quantization import ParityMapper\n",
    "\n",
    "from qiskit_nature.circuit.library import UCCSD, HartreeFock\n",
    "from qiskit.circuit.library import EfficientSU2\n",
    "from qiskit.opflow import TwoQubitReduction\n",
    "from qiskit import BasicAer, Aer\n",
    "from qiskit.utils import QuantumInstance\n",
    "from qiskit.utils.mitigation import CompleteMeasFitter\n",
    "from qiskit.providers.aer.noise import NoiseModel\n",
    "\n",
    "from qiskit import Aer\n",
    "from qiskit.utils import QuantumInstance, algorithm_globals\n",
    "from qiskit.algorithms import VQE, NumPyMinimumEigensolver\n",
    "from qiskit.algorithms.optimizers import COBYLA, L_BFGS_B, SLSQP,SPSA\n",
    "from qiskit.circuit.library import TwoLocal\n",
    "from qiskit.opflow import I, X, Z, Y\n",
    "from qiskit.circuit import Parameter, ParameterVector, QuantumCircuit, QuantumRegister \n",
    "\n",
    "from numbers import Number\n",
    "\n",
    "from qiskit.circuit import Gate, QuantumCircuit, QuantumRegister, ParameterExpression\n",
    "from qiskit.quantum_info.operators.predicates import matrix_equal\n",
    "from qiskit.quantum_info.operators.predicates import is_hermitian_matrix\n",
    "from qiskit.extensions.exceptions import ExtensionError\n",
    "from qiskit.circuit.exceptions import CircuitError\n",
    "\n",
    "from qiskit.circuit import Parameter, QuantumCircuit, QuantumRegister \n",
    "\n",
    "\n",
    "from qiskit.extensions.unitary import UnitaryGate"
   ]
  },
  {
   "cell_type": "code",
   "execution_count": 36,
   "id": "f21c927a",
   "metadata": {},
   "outputs": [],
   "source": [
    "import numpy as np\n",
    "import pylab\n",
    "import matplotlib.pyplot as plt\n",
    "\n",
    "from qiskit import Aer\n",
    "from qiskit.utils import QuantumInstance, algorithm_globals\n",
    "from qiskit.algorithms import VQE, NumPyMinimumEigensolver\n",
    "from qiskit.algorithms.optimizers import SPSA\n",
    "from qiskit.circuit.library import TwoLocal\n",
    "from qiskit.opflow import I, X, Z"
   ]
  },
  {
   "cell_type": "code",
   "execution_count": 37,
   "id": "53137ba9",
   "metadata": {},
   "outputs": [
    {
     "data": {
      "text/plain": [
       "TaperedPauliSumOp(SparsePauliOp(['IIIIII', 'IIIIIZ', 'IIIZXX', 'IIIIYY', 'IIIIZZ', 'IIIZZI', 'IIIZII', 'IIZIII', 'ZXXIII', 'IYYIII', 'IZZIII', 'ZZIIII', 'ZIIIII', 'IIIIZI', 'IIIZZZ', 'IIIZIZ', 'IIIZYY', 'IIIIXX', 'IIZIIZ', 'IIZZXX', 'IIZIYY', 'IZXIZX', 'IIXIZX', 'IZXIIX', 'IIXIIX', 'ZXXIIZ', 'IYYIIZ', 'ZXXZXX', 'IYYZXX', 'ZXXIYY', 'IYYIYY', 'XXXXXX', 'YXYXXX', 'XXXYXY', 'YXYYXY', 'IZZIIZ', 'IZZZXX', 'IZZIYY', 'ZXZIZX', 'IXIIZX', 'ZXZIIX', 'IXIIIX', 'ZZIIIZ', 'ZZIZXX', 'ZZIIYY', 'XZIXXX', 'XIIXXX', 'XZIYXY', 'XIIYXY', 'ZIIIIZ', 'ZIIZXX', 'ZIIIYY', 'IIZIZZ', 'IZXZXZ', 'IIXZXZ', 'IZXIXI', 'IIXIXI', 'ZXXIZZ', 'IYYIZZ', 'IZZIZZ', 'ZXZZXZ', 'IXIZXZ', 'ZXZIXI', 'IXIIXI', 'XXZXXZ', 'YYIXXZ', 'XXZYYI', 'YYIYYI', 'ZZIIZZ', 'ZIIIZZ', 'IIZZZI', 'ZXXZZI', 'IYYZZI', 'XXXXZI', 'YXYXZI', 'XXXXII', 'YXYXII', 'IZZZZI', 'ZZIZZI', 'XZIXZI', 'XIIXZI', 'XZIXII', 'XIIXII', 'ZIIZZI', 'IIZZII', 'ZXXZII', 'IYYZII', 'IZZZII', 'ZZIZII', 'ZIIZII', 'IZIIII', 'ZZZIII', 'ZIZIII', 'ZYYIII', 'IXXIII'],\n",
       "              coeffs=[-1.50424144e+01+0.j,  3.47762707e+00+0.j, -8.77788149e-02+0.j,\n",
       " -8.77788149e-02+0.j,  7.88669027e-01+0.j,  7.04191281e-01+0.j,\n",
       " -5.20136179e-01+0.j, -3.47762707e+00+0.j,  8.77788149e-02+0.j,\n",
       " -8.77788149e-02+0.j,  7.88669027e-01+0.j,  7.04191281e-01+0.j,\n",
       "  5.20136179e-01+0.j,  7.75192298e-02+0.j,  4.59113945e-02+0.j,\n",
       " -4.41829662e-02+0.j,  1.99479789e-02+0.j,  1.99479789e-02+0.j,\n",
       " -5.54345535e-01+0.j,  7.63483348e-02+0.j,  7.63483348e-02+0.j,\n",
       " -7.07585242e-03+0.j, -7.07585242e-03+0.j,  7.07585242e-03+0.j,\n",
       "  7.07585242e-03+0.j,  7.63483348e-02+0.j, -7.63483348e-02+0.j,\n",
       " -1.79938413e-02+0.j,  1.79938413e-02+0.j, -1.79938413e-02+0.j,\n",
       "  1.79938413e-02+0.j,  4.00093563e-03+0.j, -4.00093563e-03+0.j,\n",
       " -4.00093563e-03+0.j,  4.00093563e-03+0.j,  1.72538624e-01+0.j,\n",
       " -2.21359517e-03+0.j, -2.21359517e-03+0.j,  1.03153311e-02+0.j,\n",
       " -1.03153311e-02+0.j, -1.03153311e-02+0.j,  1.03153311e-02+0.j,\n",
       "  1.68230366e-01+0.j, -6.37804653e-03+0.j, -6.37804653e-03+0.j,\n",
       " -5.14801829e-03+0.j,  5.14801829e-03+0.j,  5.14801829e-03+0.j,\n",
       " -5.14801829e-03+0.j,  1.42111344e-01+0.j, -2.27103437e-03+0.j,\n",
       " -2.27103437e-03+0.j, -1.72538624e-01+0.j, -1.03153311e-02+0.j,\n",
       " -1.03153311e-02+0.j,  1.03153311e-02+0.j,  1.03153311e-02+0.j,\n",
       "  2.21359517e-03+0.j, -2.21359517e-03+0.j,  1.47643173e-01+0.j,\n",
       "  3.09274155e-02+0.j, -3.09274155e-02+0.j, -3.09274155e-02+0.j,\n",
       "  3.09274155e-02+0.j, -5.34217859e-03+0.j, -5.34217859e-03+0.j,\n",
       "  5.34217859e-03+0.j,  5.34217859e-03+0.j,  1.24854857e-01+0.j,\n",
       "  1.09667308e-01+0.j, -1.68230366e-01+0.j,  6.37804653e-03+0.j,\n",
       " -6.37804653e-03+0.j,  5.14801829e-03+0.j, -5.14801829e-03+0.j,\n",
       "  5.14801829e-03+0.j, -5.14801829e-03+0.j,  1.24854857e-01+0.j,\n",
       "  1.16110758e-01+0.j, -1.99496537e-02+0.j,  1.99496537e-02+0.j,\n",
       " -1.99496537e-02+0.j,  1.99496537e-02+0.j,  1.07893196e-01+0.j,\n",
       "  1.42111344e-01+0.j, -2.27103437e-03+0.j,  2.27103437e-03+0.j,\n",
       " -1.09667308e-01+0.j, -1.07893196e-01+0.j, -1.12464760e-01+0.j,\n",
       " -7.75192298e-02+0.j, -4.59113945e-02+0.j, -4.41829662e-02+0.j,\n",
       " -1.99479789e-02+0.j,  1.99479789e-02+0.j]), coeff=1.0)"
      ]
     },
     "execution_count": 37,
     "metadata": {},
     "output_type": "execute_result"
    }
   ],
   "source": [
    "BeH2 = load_Molecule('BeH2', 0.5)\n",
    "BeH2[0]"
   ]
  },
  {
   "cell_type": "code",
   "execution_count": 38,
   "id": "4d015eec",
   "metadata": {},
   "outputs": [],
   "source": [
    "def getHam(molecule, dist):\n",
    "    #from qiskit_nature.units import DistanceUnit\n",
    "    #from qiskit_nature.second_q.drivers import PySCFDriver\n",
    "    #from qiskit_nature.second_q.mappers.qubit_converter import QubitConverter\n",
    "    #from qiskit_nature.second_q.mappers import ParityMapper\n",
    "    #from qiskit.opflow import TwoQubitReduction\n",
    "    BeH2 = load_Molecule(molecule, dist)\n",
    "    qubitham = BeH2[0]\n",
    "    allcoef=[float(''.join(x.split('*')[0].split())) for x in str(qubitham).split('\\n')]\n",
    "    allops=[''.join(x.split('*')[1].split()) for x in str(qubitham).split('\\n')]\n",
    "    return allcoef,allops"
   ]
  },
  {
   "cell_type": "code",
   "execution_count": 39,
   "id": "fb8b5165",
   "metadata": {},
   "outputs": [],
   "source": [
    "def readOutVQE(coeffs,op_strings):\n",
    "    import numpy as np\n",
    "    import scipy.optimize as opt\n",
    "    #from qiskit import transpile,QuantumCircuit\n",
    "    #from qiskit.circuit.library import TwoLocal\n",
    "    #from qiskit.providers.fake_provider import FakeAthens\n",
    "    import mthree\n",
    "    def opstr_to_meas_circ(op_str):\n",
    "        num_qubits = len(op_str[0])\n",
    "        circs = []\n",
    "        for op in op_str:\n",
    "            qc = QuantumCircuit(num_qubits)\n",
    "            for idx, item in enumerate(op):\n",
    "                if item == 'X':\n",
    "                    qc.h(num_qubits-idx-1)\n",
    "                elif item == 'Y':\n",
    "                    qc.sdg(num_qubits-idx-1)\n",
    "                    qc.h(num_qubits-idx-1)\n",
    "            circs.append(qc)\n",
    "        return circs\n",
    "    ansatz = TwoLocal(2, rotation_blocks='ry', entanglement_blocks='cx')\n",
    "    meas_circs = opstr_to_meas_circ(op_strings)\n",
    "    full_circs = [ansatz.compose(meas_circs[kk]).measure_all(inplace=False) for kk in range(len(meas_circs))]\n",
    "    meas_strings = [string.replace('X', 'Z').replace('Y', 'Z') for string in op_strings]\n",
    "    backend = FakeAthens()\n",
    "    trans_circs = transpile(full_circs, backend)  \n",
    "    num_params = ansatz.num_parameters\n",
    "    #params = np.random.uniform(0,5,num_params) #np.array([1.22253725, 0.39053752, 0.21462153, 5.48308027,2.06984514, 3.65227416, 4.01911194, 0.35749589])\n",
    "    params = np.array([1.22253725, 0.39053752, 0.21462153, 5.48308027,\n",
    "                   2.06984514, 3.65227416, 4.01911194, 0.35749589])\n",
    "    params += 0.05*(np.random.random(params.shape[0])-0.5)\n",
    "    mit = mthree.M3Mitigation(backend)\n",
    "    mit.cals_from_system([0,1])\n",
    "    def vqe_func(params, *args):\n",
    "        bound_circs = [circ.bind_parameters(params) for circ in trans_circs]\n",
    "        counts = backend.run(bound_circs, shots=4096).result().get_counts()\n",
    "        quasis = mit.apply_correction(counts, [0,1])\n",
    "        energy = np.sum(coeffs*quasis.expval(meas_strings))\n",
    "        return energy\n",
    "\n",
    "    res = opt.minimize(vqe_func, params, method = 'COBYLA')\n",
    "    return res.fun"
   ]
  },
  {
   "cell_type": "code",
   "execution_count": null,
   "id": "acc01a10",
   "metadata": {},
   "outputs": [],
   "source": [
    "coefs,ops=getHam('LiH', 0.5)\n",
    "readOutVQE(coefs,ops)"
   ]
  },
  {
   "cell_type": "code",
   "execution_count": 41,
   "id": "b14bc73d",
   "metadata": {},
   "outputs": [
    {
     "data": {
      "text/html": [
       "<h3>Version Information</h3><table><tr><th>Qiskit Software</th><th>Version</th></tr><tr><td><code>qiskit-terra</code></td><td>0.22.0</td></tr><tr><td><code>qiskit-aer</code></td><td>0.11.0</td></tr><tr><td><code>qiskit-ibmq-provider</code></td><td>0.19.2</td></tr><tr><td><code>qiskit</code></td><td>0.39.0</td></tr><tr><td><code>qiskit-nature</code></td><td>0.4.5</td></tr><tr><th>System information</th></tr><tr><td>Python version</td><td>3.7.0</td></tr><tr><td>Python compiler</td><td>GCC 7.3.0</td></tr><tr><td>Python build</td><td>default, Oct  9 2018 10:31:47</td></tr><tr><td>OS</td><td>Linux</td></tr><tr><td>CPUs</td><td>4</td></tr><tr><td>Memory (Gb)</td><td>7.644084930419922</td></tr><tr><td colspan='2'>Sun Apr 30 08:56:40 2023 IST</td></tr></table>"
      ],
      "text/plain": [
       "<IPython.core.display.HTML object>"
      ]
     },
     "metadata": {},
     "output_type": "display_data"
    }
   ],
   "source": []
  },
  {
   "cell_type": "code",
   "execution_count": null,
   "id": "2760813c",
   "metadata": {},
   "outputs": [],
   "source": []
  }
 ],
 "metadata": {
  "kernelspec": {
   "display_name": "Python 3",
   "language": "python",
   "name": "python3"
  },
  "language_info": {
   "codemirror_mode": {
    "name": "ipython",
    "version": 3
   },
   "file_extension": ".py",
   "mimetype": "text/x-python",
   "name": "python",
   "nbconvert_exporter": "python",
   "pygments_lexer": "ipython3",
   "version": "3.8.8"
  }
 },
 "nbformat": 4,
 "nbformat_minor": 5
}
